{
 "cells": [
  {
   "cell_type": "code",
   "execution_count": 1,
   "id": "b7514903-a160-41f9-94f0-f99a022f59a0",
   "metadata": {
    "scrolled": true
   },
   "outputs": [
    {
     "data": {
      "application/vnd.jupyter.widget-view+json": {
       "model_id": "d3fa16cfb90f4e999896a26f4c8388fb",
       "version_major": 2,
       "version_minor": 0
      },
      "text/plain": [
       "interactive(children=(IntSlider(value=50, description='frame_num'), FloatSlider(value=0.1, description='rate',…"
      ]
     },
     "metadata": {},
     "output_type": "display_data"
    },
    {
     "data": {
      "text/plain": [
       "<function __main__.update(frame_num, rate, nutrient)>"
      ]
     },
     "execution_count": 1,
     "metadata": {},
     "output_type": "execute_result"
    }
   ],
   "source": [
    "import numpy as np\n",
    "import plotly.graph_objects as go\n",
    "from ipywidgets import interact, FloatSlider\n",
    "import plotly.io as pio\n",
    "\n",
    "# Define the grid size and initial parameters\n",
    "grid_size = (100, 100)\n",
    "initial_tumor_size = 5\n",
    "cell_proliferation_rate = 0.1  # Change to a float\n",
    "nutrient_availability = 0.1  # Change to a float\n",
    "nutrient_availability_threshold = 0.05  # Adjust as needed\n",
    "max_time_steps = 100\n",
    "\n",
    "# Initialize the grid\n",
    "grid = np.zeros(grid_size)\n",
    "\n",
    "# Place the initial tumor\n",
    "center = (grid_size[0]//2, grid_size[1]//2)\n",
    "grid[center[0]-initial_tumor_size:center[0]+initial_tumor_size,\n",
    "     center[1]-initial_tumor_size:center[1]+initial_tumor_size] = 1\n",
    "\n",
    "# Define the update function\n",
    "def update(frame_num, rate, nutrient):\n",
    "    global grid  # Ensure we modify the global grid variable\n",
    "    \n",
    "    # Copy the grid to avoid modifying it while iterating\n",
    "    new_grid = np.copy(grid)\n",
    "    \n",
    "    # Iterate over each cell in the grid\n",
    "    for i in range(grid_size[0]):\n",
    "        for j in range(grid_size[1]):\n",
    "            # Check if the current cell is a tumor cell\n",
    "            if grid[i, j] == 1:\n",
    "                # Check nutrient availability\n",
    "                if nutrient > nutrient_availability_threshold:\n",
    "                    # Proliferate into adjacent empty cells\n",
    "                    for dx in [-1, 0, 1]:\n",
    "                        for dy in [-1, 0, 1]:\n",
    "                            if dx == 0 and dy == 0:\n",
    "                                continue  # Skip the current cell\n",
    "                            # Calculate neighbor coordinates\n",
    "                            ni, nj = i + dx, j + dy\n",
    "                            # Check if neighbor is within grid bounds and empty\n",
    "                            if 0 <= ni < grid_size[0] and 0 <= nj < grid_size[1] and grid[ni, nj] == 0:\n",
    "                                # Proliferate with a probability determined by the cell proliferation rate\n",
    "                                if np.random.random() < rate:\n",
    "                                    new_grid[ni, nj] = 1\n",
    "    \n",
    "    # Update the grid with the new state\n",
    "    grid = new_grid\n",
    "    \n",
    "    # Create 3D surface plot\n",
    "    x, y = np.meshgrid(np.arange(grid_size[0]), np.arange(grid_size[1]))\n",
    "    fig = go.Figure(data=[go.Surface(z=grid, colorscale='Viridis')])\n",
    "    fig.update_layout(title=f'Time step: {frame_num}',\n",
    "                      scene=dict(xaxis_title='X', yaxis_title='Y', zaxis_title='Z'))\n",
    "    \n",
    "    pio.show(fig, renderer=\"iframe\")  # Display the figure\n",
    "    \n",
    "    return fig  # Return the figure object\n",
    "\n",
    "# Create interactive sliders\n",
    "rate_slider = FloatSlider(min=0, max=1, step=0.1, value=cell_proliferation_rate)\n",
    "nutrient_slider = FloatSlider(min=0, max=1, step=0.1, value=nutrient_availability)\n",
    "\n",
    "# Set up the interactive plot\n",
    "interact(update, frame_num=(0, max_time_steps, 1), rate=rate_slider, nutrient=nutrient_slider)"
   ]
  },
  {
   "cell_type": "code",
   "execution_count": null,
   "id": "7d9fd892-7de2-4090-84e1-daf8e4a2ff8b",
   "metadata": {},
   "outputs": [],
   "source": []
  }
 ],
 "metadata": {
  "kernelspec": {
   "display_name": "Python 3 (ipykernel)",
   "language": "python",
   "name": "python3"
  },
  "language_info": {
   "codemirror_mode": {
    "name": "ipython",
    "version": 3
   },
   "file_extension": ".py",
   "mimetype": "text/x-python",
   "name": "python",
   "nbconvert_exporter": "python",
   "pygments_lexer": "ipython3",
   "version": "3.12.2"
  }
 },
 "nbformat": 4,
 "nbformat_minor": 5
}
